{
 "cells": [
  {
   "cell_type": "code",
   "execution_count": 1,
   "id": "c60f4e25",
   "metadata": {},
   "outputs": [],
   "source": [
    "import json"
   ]
  },
  {
   "cell_type": "code",
   "execution_count": 2,
   "id": "0495f14c",
   "metadata": {},
   "outputs": [],
   "source": [
    "player_number = 6\n",
    "config = {\n",
    "    'player_number':player_number,\n",
    "    'epochs':2,\n",
    "    'money':4,\n",
    "    'algos':['test']*player_number,\n",
    "    'bb':0.5\n",
    "}"
   ]
  },
  {
   "cell_type": "code",
   "execution_count": 3,
   "id": "0f317e63",
   "metadata": {},
   "outputs": [],
   "source": [
    "with open('./Config.json','w') as fp:\n",
    "    json.dump(config,fp)"
   ]
  }
 ],
 "metadata": {
  "kernelspec": {
   "display_name": "Python 3",
   "language": "python",
   "name": "python3"
  },
  "language_info": {
   "codemirror_mode": {
    "name": "ipython",
    "version": 3
   },
   "file_extension": ".py",
   "mimetype": "text/x-python",
   "name": "python",
   "nbconvert_exporter": "python",
   "pygments_lexer": "ipython3",
   "version": "3.6.9"
  }
 },
 "nbformat": 4,
 "nbformat_minor": 5
}
