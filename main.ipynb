{
 "cells": [
  {
   "cell_type": "code",
   "execution_count": 1,
   "id": "dde0e18a",
   "metadata": {},
   "outputs": [],
   "source": [
    "import json\n",
    "from Agents import Players\n",
    "from Env import Texas_Holdem_Env"
   ]
  },
  {
   "cell_type": "code",
   "execution_count": 2,
   "id": "62b9d745",
   "metadata": {},
   "outputs": [],
   "source": [
    "with open('./Config.json','r') as fp:\n",
    "    config = json.load(fp)"
   ]
  },
  {
   "cell_type": "code",
   "execution_count": 4,
   "id": "468a20e7",
   "metadata": {
    "scrolled": false
   },
   "outputs": [],
   "source": [
    "count = 0\n",
    "\n",
    "players = Players(algos=config['algos'],player_number=config['player_number'],money=config['money'])\n",
    "env = Texas_Holdem_Env(players=players,bb=config['bb'])\n",
    "\n",
    "while config['epochs'] > count:\n",
    "    env.reset()\n",
    "    while players.alive_players_num > 1:\n",
    "        state,reward,stop,info = env.reset_for_a_cycle()\n",
    "        while not stop:\n",
    "            action = players.action(state,reward,info)\n",
    "            state,reward,stop,info = env.step(state,action)\n",
    "        print('\\n\\n')\n",
    "    count += 1"
   ]
  }
 ],
 "metadata": {
  "kernelspec": {
   "display_name": "Python 3",
   "language": "python",
   "name": "python3"
  },
  "language_info": {
   "codemirror_mode": {
    "name": "ipython",
    "version": 3
   },
   "file_extension": ".py",
   "mimetype": "text/x-python",
   "name": "python",
   "nbconvert_exporter": "python",
   "pygments_lexer": "ipython3",
   "version": "3.6.9"
  }
 },
 "nbformat": 4,
 "nbformat_minor": 5
}
